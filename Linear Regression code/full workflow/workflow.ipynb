{
 "cells": [
  {
   "cell_type": "markdown",
   "id": "63cf7a13-5c84-46b4-ba65-2c6e9d7c069e",
   "metadata": {},
   "source": [
    "# Linear Regression Practice\n",
    "The dataset we are going to inspect contains 9568 data points collected from a Combined Cycle Power Plant over 6 years (2006-2011), when the power plant was set to work with full load. Features consist of hourly average ambient variables **Temperature (AT), Ambient Pressure (AP), Relative Humidity (RH) and Exhaust Vacuum (V)** to predict the **net hourly electrical energy output (PE)** of the plant.\n",
    "\n",
    "Our Goal is to train a **linear regression model** like the following:\n",
    "$$ PE = \\theta_0 + \\theta_1*AT + \\theta_2*V + \\theta_3*AP + \\theta_4*RH $$\n",
    "And out learning target is the $\\theta$ parameters."
   ]
  },
  {
   "cell_type": "markdown",
   "id": "9796ee7d-9edb-4e92-8fb6-a8431639e490",
   "metadata": {},
   "source": [
    "## Import Data"
   ]
  },
  {
   "cell_type": "code",
   "execution_count": 1,
   "id": "cfe92dbd-222f-46e6-9d4f-af8ed91f11aa",
   "metadata": {},
   "outputs": [
    {
     "data": {
      "text/html": [
       "<div>\n",
       "<style scoped>\n",
       "    .dataframe tbody tr th:only-of-type {\n",
       "        vertical-align: middle;\n",
       "    }\n",
       "\n",
       "    .dataframe tbody tr th {\n",
       "        vertical-align: top;\n",
       "    }\n",
       "\n",
       "    .dataframe thead th {\n",
       "        text-align: right;\n",
       "    }\n",
       "</style>\n",
       "<table border=\"1\" class=\"dataframe\">\n",
       "  <thead>\n",
       "    <tr style=\"text-align: right;\">\n",
       "      <th></th>\n",
       "      <th>AT</th>\n",
       "      <th>V</th>\n",
       "      <th>AP</th>\n",
       "      <th>RH</th>\n",
       "      <th>PE</th>\n",
       "    </tr>\n",
       "  </thead>\n",
       "  <tbody>\n",
       "    <tr>\n",
       "      <th>0</th>\n",
       "      <td>14.96</td>\n",
       "      <td>41.76</td>\n",
       "      <td>1024.07</td>\n",
       "      <td>73.17</td>\n",
       "      <td>463.26</td>\n",
       "    </tr>\n",
       "    <tr>\n",
       "      <th>1</th>\n",
       "      <td>25.18</td>\n",
       "      <td>62.96</td>\n",
       "      <td>1020.04</td>\n",
       "      <td>59.08</td>\n",
       "      <td>444.37</td>\n",
       "    </tr>\n",
       "    <tr>\n",
       "      <th>2</th>\n",
       "      <td>5.11</td>\n",
       "      <td>39.40</td>\n",
       "      <td>1012.16</td>\n",
       "      <td>92.14</td>\n",
       "      <td>488.56</td>\n",
       "    </tr>\n",
       "    <tr>\n",
       "      <th>3</th>\n",
       "      <td>20.86</td>\n",
       "      <td>57.32</td>\n",
       "      <td>1010.24</td>\n",
       "      <td>76.64</td>\n",
       "      <td>446.48</td>\n",
       "    </tr>\n",
       "    <tr>\n",
       "      <th>4</th>\n",
       "      <td>10.82</td>\n",
       "      <td>37.50</td>\n",
       "      <td>1009.23</td>\n",
       "      <td>96.62</td>\n",
       "      <td>473.90</td>\n",
       "    </tr>\n",
       "  </tbody>\n",
       "</table>\n",
       "</div>"
      ],
      "text/plain": [
       "      AT      V       AP     RH      PE\n",
       "0  14.96  41.76  1024.07  73.17  463.26\n",
       "1  25.18  62.96  1020.04  59.08  444.37\n",
       "2   5.11  39.40  1012.16  92.14  488.56\n",
       "3  20.86  57.32  1010.24  76.64  446.48\n",
       "4  10.82  37.50  1009.23  96.62  473.90"
      ]
     },
     "execution_count": 1,
     "metadata": {},
     "output_type": "execute_result"
    }
   ],
   "source": [
    "import pandas as pd\n",
    "import numpy as np\n",
    "import matplotlib.pyplot as plt\n",
    "%matplotlib inline\n",
    "\n",
    "data = pd.read_excel('./pp.xlsx')\n",
    "data.head()"
   ]
  },
  {
   "cell_type": "markdown",
   "id": "c2b7d55f-8233-4f0d-a0f8-ab2e03acae33",
   "metadata": {},
   "source": [
    "## Data Insight\n",
    "Features consist of hourly average ambient variables:\n",
    "1. Temperature (AT) in the range 1.81°C and 37.11°C\n",
    "1. Ambient Pressure (AP) in the range 992.89-1033.30 milibar\n",
    "1. Relative Humidity (RH) in the range 25.56% to 100.16%\n",
    "1. Exhaust Vacuum (V) in teh range 25.36-81.56 cm Hg\n",
    "\n",
    "And the target column：**Net hourly electrical energy output (PE)** 420.26-495.76 MW"
   ]
  },
  {
   "cell_type": "code",
   "execution_count": 2,
   "id": "ec17e894-9463-4526-9132-e4c41ad6f10b",
   "metadata": {},
   "outputs": [
    {
     "data": {
      "text/plain": [
       "(9568, 5)"
      ]
     },
     "execution_count": 2,
     "metadata": {},
     "output_type": "execute_result"
    }
   ],
   "source": [
    "data.shape"
   ]
  },
  {
   "cell_type": "code",
   "execution_count": 3,
   "id": "ad295038-b163-4bae-82c0-787c428751c8",
   "metadata": {},
   "outputs": [
    {
     "data": {
      "text/html": [
       "<div>\n",
       "<style scoped>\n",
       "    .dataframe tbody tr th:only-of-type {\n",
       "        vertical-align: middle;\n",
       "    }\n",
       "\n",
       "    .dataframe tbody tr th {\n",
       "        vertical-align: top;\n",
       "    }\n",
       "\n",
       "    .dataframe thead th {\n",
       "        text-align: right;\n",
       "    }\n",
       "</style>\n",
       "<table border=\"1\" class=\"dataframe\">\n",
       "  <thead>\n",
       "    <tr style=\"text-align: right;\">\n",
       "      <th></th>\n",
       "      <th>AT</th>\n",
       "      <th>V</th>\n",
       "      <th>AP</th>\n",
       "      <th>RH</th>\n",
       "    </tr>\n",
       "  </thead>\n",
       "  <tbody>\n",
       "    <tr>\n",
       "      <th>0</th>\n",
       "      <td>14.96</td>\n",
       "      <td>41.76</td>\n",
       "      <td>1024.07</td>\n",
       "      <td>73.17</td>\n",
       "    </tr>\n",
       "    <tr>\n",
       "      <th>1</th>\n",
       "      <td>25.18</td>\n",
       "      <td>62.96</td>\n",
       "      <td>1020.04</td>\n",
       "      <td>59.08</td>\n",
       "    </tr>\n",
       "    <tr>\n",
       "      <th>2</th>\n",
       "      <td>5.11</td>\n",
       "      <td>39.40</td>\n",
       "      <td>1012.16</td>\n",
       "      <td>92.14</td>\n",
       "    </tr>\n",
       "    <tr>\n",
       "      <th>3</th>\n",
       "      <td>20.86</td>\n",
       "      <td>57.32</td>\n",
       "      <td>1010.24</td>\n",
       "      <td>76.64</td>\n",
       "    </tr>\n",
       "    <tr>\n",
       "      <th>4</th>\n",
       "      <td>10.82</td>\n",
       "      <td>37.50</td>\n",
       "      <td>1009.23</td>\n",
       "      <td>96.62</td>\n",
       "    </tr>\n",
       "  </tbody>\n",
       "</table>\n",
       "</div>"
      ],
      "text/plain": [
       "      AT      V       AP     RH\n",
       "0  14.96  41.76  1024.07  73.17\n",
       "1  25.18  62.96  1020.04  59.08\n",
       "2   5.11  39.40  1012.16  92.14\n",
       "3  20.86  57.32  1010.24  76.64\n",
       "4  10.82  37.50  1009.23  96.62"
      ]
     },
     "execution_count": 3,
     "metadata": {},
     "output_type": "execute_result"
    }
   ],
   "source": [
    "# features\n",
    "X = data[['AT', 'V', 'AP', 'RH']]\n",
    "X.head()"
   ]
  },
  {
   "cell_type": "code",
   "execution_count": 6,
   "id": "daa4295c-37aa-4790-aead-f587f685c81a",
   "metadata": {},
   "outputs": [
    {
     "data": {
      "text/html": [
       "<div>\n",
       "<style scoped>\n",
       "    .dataframe tbody tr th:only-of-type {\n",
       "        vertical-align: middle;\n",
       "    }\n",
       "\n",
       "    .dataframe tbody tr th {\n",
       "        vertical-align: top;\n",
       "    }\n",
       "\n",
       "    .dataframe thead th {\n",
       "        text-align: right;\n",
       "    }\n",
       "</style>\n",
       "<table border=\"1\" class=\"dataframe\">\n",
       "  <thead>\n",
       "    <tr style=\"text-align: right;\">\n",
       "      <th></th>\n",
       "      <th>PE</th>\n",
       "    </tr>\n",
       "  </thead>\n",
       "  <tbody>\n",
       "    <tr>\n",
       "      <th>0</th>\n",
       "      <td>463.26</td>\n",
       "    </tr>\n",
       "    <tr>\n",
       "      <th>1</th>\n",
       "      <td>444.37</td>\n",
       "    </tr>\n",
       "    <tr>\n",
       "      <th>2</th>\n",
       "      <td>488.56</td>\n",
       "    </tr>\n",
       "    <tr>\n",
       "      <th>3</th>\n",
       "      <td>446.48</td>\n",
       "    </tr>\n",
       "    <tr>\n",
       "      <th>4</th>\n",
       "      <td>473.90</td>\n",
       "    </tr>\n",
       "  </tbody>\n",
       "</table>\n",
       "</div>"
      ],
      "text/plain": [
       "       PE\n",
       "0  463.26\n",
       "1  444.37\n",
       "2  488.56\n",
       "3  446.48\n",
       "4  473.90"
      ]
     },
     "execution_count": 6,
     "metadata": {},
     "output_type": "execute_result"
    }
   ],
   "source": [
    "# outputs\n",
    "y = data[['PE']]\n",
    "y.head()"
   ]
  },
  {
   "cell_type": "markdown",
   "id": "e02bca98-106f-48c8-95fc-a3460fa5e495",
   "metadata": {},
   "source": [
    "## Split Dataset\n",
    "Now, we need to split the dataset into **training set** and **test set**."
   ]
  },
  {
   "cell_type": "code",
   "execution_count": 8,
   "id": "1a4c8b3e-dad4-4a00-8725-f9b6b6e10920",
   "metadata": {},
   "outputs": [],
   "source": [
    "from sklearn.model_selection import train_test_split\n",
    "\n",
    "# random_state makes the result reproducible\n",
    "X_train, X_test, y_train, y_test = train_test_split(X, y, random_state=1)"
   ]
  },
  {
   "cell_type": "code",
   "execution_count": 9,
   "id": "709cdc6f-1cca-4121-8c66-b64bf2f445b0",
   "metadata": {},
   "outputs": [
    {
     "name": "stdout",
     "output_type": "stream",
     "text": [
      "(7176, 4)\n",
      "(7176, 1)\n",
      "(2392, 4)\n",
      "(2392, 1)\n"
     ]
    }
   ],
   "source": [
    "print(X_train.shape)\n",
    "print(y_train.shape)\n",
    "print(X_test.shape)\n",
    "print(y_test.shape)"
   ]
  },
  {
   "cell_type": "markdown",
   "id": "533c0e82-343c-4019-9174-8cf2b32ab67e",
   "metadata": {},
   "source": [
    "We can tell that 75% of our sample is training set, and 25% is test set."
   ]
  },
  {
   "cell_type": "markdown",
   "id": "f8b94b98-fae7-425f-8484-ea14534ceaa1",
   "metadata": {},
   "source": [
    "## Model training\n",
    "It is noticeable that linear regression in sklearn is implemented with **least square**."
   ]
  },
  {
   "cell_type": "markdown",
   "id": "11c8e084-d526-46f4-9bf7-630a6f232b26",
   "metadata": {},
   "source": [
    "from sklearn.linear_model import LinearRegression\n",
    "\n",
    "lr = LinearRegression()\n",
    "lr.fit(X_train, y_train)"
   ]
  },
  {
   "cell_type": "markdown",
   "id": "cc4b3cd9-3429-4b89-822a-abd8f6f328c0",
   "metadata": {},
   "source": [
    "Inspect the result"
   ]
  },
  {
   "cell_type": "code",
   "execution_count": 11,
   "id": "88c14399-163f-4f63-ad9d-8e7f995bad56",
   "metadata": {},
   "outputs": [
    {
     "name": "stdout",
     "output_type": "stream",
     "text": [
      "[460.05727267]\n",
      "[[-1.96865472 -0.2392946   0.0568509  -0.15861467]]\n"
     ]
    }
   ],
   "source": [
    "print(lr.intercept_)\n",
    "print(lr.coef_)"
   ]
  },
  {
   "cell_type": "markdown",
   "id": "80fe5f82-db36-4873-86a6-7a425443d6ef",
   "metadata": {},
   "source": [
    "The `intercept_` and `coef_` returned by the model is exactly the $\\theta$ parameters we are looking for. Our model becomes:\n",
    "$$ PE = 460.05727267 - 1.96865472*AT - 0.2392946*V + 0.0568509*AP -0.15861467*RH $$"
   ]
  },
  {
   "cell_type": "markdown",
   "id": "91df0825-7a5d-4389-9d6f-275eac27d08b",
   "metadata": {},
   "source": [
    "## Model Evaluation\n",
    "Next we need to evaluate our model. Error metrics used in linear regression are usually **MSE(Mean Squared Error)** or **RMSE(Root Mean Squared Error)**."
   ]
  },
  {
   "cell_type": "code",
   "execution_count": 12,
   "id": "db335f69-a410-4b80-8ca6-5598cced978a",
   "metadata": {},
   "outputs": [
    {
     "name": "stdout",
     "output_type": "stream",
     "text": [
      "MSE:  20.837191547220353\n",
      "RMSE:  4.564777272465805\n"
     ]
    }
   ],
   "source": [
    "from sklearn.metrics import mean_squared_error\n",
    "\n",
    "# make prediction using our model and test set\n",
    "y_pred = lr.predict(X_test)\n",
    "mse = mean_squared_error(y_test, y_pred)\n",
    "rmse = mean_squared_error(y_test, y_pred, squared=False)\n",
    "\n",
    "print(\"MSE: \", mse)\n",
    "print(\"RMSE: \", rmse)"
   ]
  },
  {
   "cell_type": "markdown",
   "id": "69b20c80-38f2-47bd-9af0-b9ce6919c4f7",
   "metadata": {},
   "source": [
    "Smaller MSE(or RMSE) means better performance. \n",
    "\n",
    "For example, We will try to train another model using less features and inspect the result."
   ]
  },
  {
   "cell_type": "code",
   "execution_count": 13,
   "id": "dd52ccef-d63c-4017-978a-9938d4b099d0",
   "metadata": {},
   "outputs": [
    {
     "name": "stdout",
     "output_type": "stream",
     "text": [
      "MSE:  23.905653799527794\n",
      "RMSE:  4.889340834870054\n"
     ]
    }
   ],
   "source": [
    "# using only three features\n",
    "X_3 = data[['AT', 'V', 'AP']]\n",
    "X_3.head()\n",
    "\n",
    "# train another model\n",
    "X_3_train, X_3_test, y_3_train, y_3_test = train_test_split(X_3, y, random_state=1)\n",
    "lr_3 = LinearRegression()\n",
    "lr_3.fit(X_3_train, y_3_train)\n",
    "y_3_pred = lr_3.predict(X_3_test)\n",
    "mse = mean_squared_error(y_3_test, y_3_pred)\n",
    "rmse = mean_squared_error(y_3_test, y_3_pred, squared=False)\n",
    "\n",
    "print(\"MSE: \", mse)\n",
    "print(\"RMSE: \", rmse)"
   ]
  },
  {
   "cell_type": "markdown",
   "id": "5fbeb3ed-5e4b-46ef-b25e-caf7fc3421a4",
   "metadata": {},
   "source": [
    "As the result showed, using only three features made the performance worse, so removing this feature is not an optimization. "
   ]
  },
  {
   "cell_type": "markdown",
   "id": "383ebc7a-92de-4b18-8682-c6a113bf8b37",
   "metadata": {},
   "source": [
    "## Cross Validation"
   ]
  },
  {
   "cell_type": "markdown",
   "id": "214467c7-a862-4dbb-be1f-82735d5f0b58",
   "metadata": {},
   "source": [
    "We will try use 10-fold corss validation to try to optimize the model."
   ]
  },
  {
   "cell_type": "code",
   "execution_count": 17,
   "id": "df83f443-085c-4f7f-aad9-893603196c08",
   "metadata": {},
   "outputs": [
    {
     "name": "stdout",
     "output_type": "stream",
     "text": [
      "All MSEs:\n",
      "[-20.79399053 -19.86735905 -21.73831944 -18.55368312 -22.09785379\n",
      " -20.84892236 -19.53483172 -20.55201437 -22.90265767 -21.04924564]\n",
      "\n",
      "All RMSES:\n",
      "[-4.56004282 -4.45728158 -4.66243707 -4.30739865 -4.70083544 -4.56606202\n",
      " -4.41982259 -4.53343296 -4.78567212 -4.58794569]\n",
      "\n",
      "average MSE:  20.793887770081117\n",
      "average RMSE:  4.5580930929476695\n"
     ]
    }
   ],
   "source": [
    "from sklearn.model_selection import cross_val_score, KFold\n",
    "\n",
    "kf = KFold(n_splits=10, shuffle=True, random_state=1)\n",
    "model = LinearRegression()\n",
    "\n",
    "mses = cross_val_score(model, X, y, scoring='neg_mean_squared_error', cv=kf)\n",
    "rmses = cross_val_score(model, X, y, scoring='neg_root_mean_squared_error', cv=kf)\n",
    "\n",
    "print(\"All MSEs:\")\n",
    "print(mses)\n",
    "print(\"\\nAll RMSES:\")\n",
    "print(rmses)\n",
    "print('\\naverage MSE: ', abs(np.mean(mses)))\n",
    "print('average RMSE: ', abs(np.mean(rmses)))"
   ]
  },
  {
   "cell_type": "markdown",
   "id": "30510876-be1c-41f7-8871-d5971501413f",
   "metadata": {},
   "source": [
    "We can see the result is negative. The explanation is as followed:\n",
    "\n",
    "All scorer objects follow the convention that **higher return values are better than lower return values**. Thus metrics which measure the distance between the model and the data, like metrics.mean_squared_error, are available as **neg_mean_squared_error which return the negated value of the metric**."
   ]
  },
  {
   "cell_type": "markdown",
   "id": "1282aa9e-0fa8-4c1b-8a73-6881353eeb17",
   "metadata": {},
   "source": [
    "The MSE is larger than before, because every time we use 1 fold as test set, while we used 25% of the dataset previously, which indicates different premise."
   ]
  },
  {
   "cell_type": "markdown",
   "id": "f32a24eb-9b5e-4a66-9ada-18ac7f9ed6d3",
   "metadata": {},
   "source": [
    "## Visualization\n",
    "we will make a scatter plot to illustrate the relationship between the actual value and the predicted value. The point that is  closer to the line y=x in the middle represents the lower prediction loss."
   ]
  },
  {
   "cell_type": "code",
   "execution_count": 32,
   "id": "5bd226c5-71d2-4476-a293-b8ae4a1ba663",
   "metadata": {},
   "outputs": [
    {
     "data": {
      "image/png": "[encoded data removed]",
      "text/plain": [
       "<Figure size 432x288 with 1 Axes>"
      ]
     },
     "metadata": {
      "needs_background": "light"
     },
     "output_type": "display_data"
    }
   ],
   "source": [
    "from sklearn.model_selection import cross_val_predict\n",
    "\n",
    "predictions = cross_val_predict(model, X, y, cv=kf)\n",
    "plt.scatter(y, predictions)\n",
    "plt.plot(np.array([420, 490]), np.array([420, 490]), color='red')\n",
    "plt.xlabel('Measured')\n",
    "plt.ylabel('predicted')\n",
    "plt.show()"
   ]
  },
  {
   "cell_type": "code",
   "execution_count": null,
   "id": "74abb83b-1732-49a0-89f4-f4283420e0b1",
   "metadata": {},
   "outputs": [],
   "source": []
  }
 ],
 "metadata": {
  "kernelspec": {
   "display_name": "Python 3",
   "language": "python",
   "name": "python3"
  },
  "language_info": {
   "codemirror_mode": {
    "name": "ipython",
    "version": 3
   },
   "file_extension": ".py",
   "mimetype": "text/x-python",
   "name": "python",
   "nbconvert_exporter": "python",
   "pygments_lexer": "ipython3",
   "version": "3.8.8"
  }
 },
 "nbformat": 4,
 "nbformat_minor": 5
}
