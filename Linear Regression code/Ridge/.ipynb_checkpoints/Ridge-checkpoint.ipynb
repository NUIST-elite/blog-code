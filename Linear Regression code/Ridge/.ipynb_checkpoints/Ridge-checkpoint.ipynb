{
 "cells": [
  {
   "cell_type": "markdown",
   "id": "5867e0a9-68c5-46c7-bf94-d5ca38a72499",
   "metadata": {},
   "source": [
    "# Ridge Regression\n",
    "Ridge regression has the following loss function form:\n",
    "$$ J(\\mathbf\\theta) = \\frac{1}{2}(\\mathbf{X\\theta} - \\mathbf{Y})^T(\\mathbf{X\\theta} - \\mathbf{Y}) + \\frac{1}{2}\\alpha||\\theta||_2^2 $$\n",
    "$\\alpha$is a constant coefficient with no fixed value and needs to be tuned, and $||\\theta||_2$ is the **L2 norm**.\n",
    "\n",
    "The goal is to tune a suitable $\\alpha$, thus finding the θ that minimizes $J(\\theta)$. scikt-learn use **least square** to accommplish it. "
   ]
  },
  {
   "cell_type": "markdown",
   "id": "a55946b9-fd32-4c2c-84fc-7deb85d08ae2",
   "metadata": {},
   "source": [
    "## Import Data"
   ]
  },
  {
   "cell_type": "code",
   "execution_count": 1,
   "id": "31417eea-8e5c-4a36-8dcd-c4bb4e0a1821",
   "metadata": {},
   "outputs": [
    {
     "data": {
      "text/html": [
       "<div>\n",
       "<style scoped>\n",
       "    .dataframe tbody tr th:only-of-type {\n",
       "        vertical-align: middle;\n",
       "    }\n",
       "\n",
       "    .dataframe tbody tr th {\n",
       "        vertical-align: top;\n",
       "    }\n",
       "\n",
       "    .dataframe thead th {\n",
       "        text-align: right;\n",
       "    }\n",
       "</style>\n",
       "<table border=\"1\" class=\"dataframe\">\n",
       "  <thead>\n",
       "    <tr style=\"text-align: right;\">\n",
       "      <th></th>\n",
       "      <th>AT</th>\n",
       "      <th>V</th>\n",
       "      <th>AP</th>\n",
       "      <th>RH</th>\n",
       "      <th>PE</th>\n",
       "    </tr>\n",
       "  </thead>\n",
       "  <tbody>\n",
       "    <tr>\n",
       "      <th>0</th>\n",
       "      <td>8.34</td>\n",
       "      <td>40.77</td>\n",
       "      <td>1010.84</td>\n",
       "      <td>90.01</td>\n",
       "      <td>480.48</td>\n",
       "    </tr>\n",
       "    <tr>\n",
       "      <th>1</th>\n",
       "      <td>23.64</td>\n",
       "      <td>58.49</td>\n",
       "      <td>1011.40</td>\n",
       "      <td>74.20</td>\n",
       "      <td>445.75</td>\n",
       "    </tr>\n",
       "    <tr>\n",
       "      <th>2</th>\n",
       "      <td>29.74</td>\n",
       "      <td>56.90</td>\n",
       "      <td>1007.15</td>\n",
       "      <td>41.91</td>\n",
       "      <td>438.76</td>\n",
       "    </tr>\n",
       "    <tr>\n",
       "      <th>3</th>\n",
       "      <td>19.07</td>\n",
       "      <td>49.69</td>\n",
       "      <td>1007.22</td>\n",
       "      <td>76.79</td>\n",
       "      <td>453.09</td>\n",
       "    </tr>\n",
       "    <tr>\n",
       "      <th>4</th>\n",
       "      <td>11.80</td>\n",
       "      <td>40.66</td>\n",
       "      <td>1017.13</td>\n",
       "      <td>97.20</td>\n",
       "      <td>464.43</td>\n",
       "    </tr>\n",
       "  </tbody>\n",
       "</table>\n",
       "</div>"
      ],
      "text/plain": [
       "      AT      V       AP     RH      PE\n",
       "0   8.34  40.77  1010.84  90.01  480.48\n",
       "1  23.64  58.49  1011.40  74.20  445.75\n",
       "2  29.74  56.90  1007.15  41.91  438.76\n",
       "3  19.07  49.69  1007.22  76.79  453.09\n",
       "4  11.80  40.66  1017.13  97.20  464.43"
      ]
     },
     "execution_count": 1,
     "metadata": {},
     "output_type": "execute_result"
    }
   ],
   "source": [
    "import pandas as pd\n",
    "import numpy as np\n",
    "import matplotlib.pyplot as plt\n",
    "%matplotlib inline\n",
    "\n",
    "data = pd.read_csv('./pp.csv')\n",
    "data.head()"
   ]
  },
  {
   "cell_type": "code",
   "execution_count": 2,
   "id": "cca05fb0-9f2f-4088-8cba-497ae7af9c99",
   "metadata": {},
   "outputs": [
    {
     "data": {
      "text/plain": [
       "(9568, 5)"
      ]
     },
     "execution_count": 2,
     "metadata": {},
     "output_type": "execute_result"
    }
   ],
   "source": [
    "data.shape"
   ]
  },
  {
   "cell_type": "markdown",
   "id": "2fef6071-f739-4e6a-a589-44388107adba",
   "metadata": {},
   "source": [
    "> The dataset is used in another project, data introduction can be fount [there](https://github.com/NUIST-elite/blog-code/blob/main/Linear%20Regression%20code/full%20workflow/workflow.ipynb)."
   ]
  },
  {
   "cell_type": "markdown",
   "id": "45a0b677-5a9e-4713-a274-bc2cc65f2e4e",
   "metadata": {},
   "source": [
    "## Split Dataset"
   ]
  },
  {
   "cell_type": "code",
   "execution_count": 4,
   "id": "8a4c37af-536e-448a-92e5-af07fa416355",
   "metadata": {},
   "outputs": [],
   "source": [
    "# features\n",
    "X = data[['AT', 'V', 'AP', 'RH']]\n",
    "\n",
    "# outputs\n",
    "y = data[['PE']]"
   ]
  },
  {
   "cell_type": "code",
   "execution_count": 5,
   "id": "61b32ef3-6f95-43d6-8b0d-246f26b6ef99",
   "metadata": {},
   "outputs": [],
   "source": [
    "from sklearn.model_selection import train_test_split\n",
    "\n",
    "# random_state makes the result reproducible\n",
    "X_train, X_test, y_train, y_test = train_test_split(X, y, random_state=1)"
   ]
  },
  {
   "cell_type": "markdown",
   "id": "012d4cb6-9647-4831-bb5d-ba42cf0f703c",
   "metadata": {},
   "source": [
    "## Use Ridge Regression"
   ]
  },
  {
   "cell_type": "markdown",
   "id": "68e38691-f8cf-4724-bd4e-dd437f082cfd",
   "metadata": {},
   "source": [
    "To run Ridge regression, we must specify the **hyperparameter α**. We specify one at random (say 1), and later we will talk about how to use **cross-validation** to quickly select the optimal hyperparameter from multiple input hyperparameters α."
   ]
  },
  {
   "cell_type": "code",
   "execution_count": 6,
   "id": "76c5a68d-f5b4-426b-b5e6-ef6559a68279",
   "metadata": {},
   "outputs": [
    {
     "data": {
      "text/plain": [
       "Ridge(alpha=1)"
      ]
     },
     "execution_count": 6,
     "metadata": {},
     "output_type": "execute_result"
    }
   ],
   "source": [
    "from sklearn.linear_model import  Ridge\n",
    "\n",
    "ridge = Ridge(alpha=1)\n",
    "ridge.fit(X_train, y_train)"
   ]
  },
  {
   "cell_type": "code",
   "execution_count": 7,
   "id": "37a79d26-3ca8-4535-b569-b53a4c0a679f",
   "metadata": {},
   "outputs": [
    {
     "name": "stdout",
     "output_type": "stream",
     "text": [
      "[[-1.97373209 -0.2323016   0.06935852 -0.15806479]]\n",
      "[447.05552892]\n"
     ]
    }
   ],
   "source": [
    "print(ridge.coef_)\n",
    "print(ridge.intercept_)"
   ]
  },
  {
   "cell_type": "markdown",
   "id": "3fa450ef-cc1d-456d-a7f5-b4dc04950bdc",
   "metadata": {},
   "source": [
    "The initial model we got is:\n",
    "$$ PE = 447.05552892 - 1.97373209*AT - 0.2323016*V + 0.06935852*AP - 0.15806479*RH $$\n"
   ]
  }
 ],
 "metadata": {
  "kernelspec": {
   "display_name": "Python 3",
   "language": "python",
   "name": "python3"
  },
  "language_info": {
   "codemirror_mode": {
    "name": "ipython",
    "version": 3
   },
   "file_extension": ".py",
   "mimetype": "text/x-python",
   "name": "python",
   "nbconvert_exporter": "python",
   "pygments_lexer": "ipython3",
   "version": "3.8.8"
  }
 },
 "nbformat": 4,
 "nbformat_minor": 5
}
